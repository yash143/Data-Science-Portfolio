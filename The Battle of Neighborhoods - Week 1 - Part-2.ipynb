{
    "nbformat_minor": 1, 
    "cells": [
        {
            "source": "## The Battle of the Neighborhoods - Week 1", 
            "cell_type": "markdown", 
            "metadata": {
                "collapsed": true
            }
        }, 
        {
            "source": "### Data :", 
            "cell_type": "markdown", 
            "metadata": {}
        }, 
        {
            "source": "One city will be analysed in this project : ***Newyork City***. \n\nWe will be using the below datasets for analysing Newyork city", 
            "cell_type": "markdown", 
            "metadata": {}
        }, 
        {
            "source": "***Data 1 :*** \nNeighborhood has a total of 5 boroughs and 306 neighborhoods. In order to segement the neighborhoods and explore them, we will essentially need a dataset that contains the 5 boroughs and the neighborhoods that exist in each borough as well as the the latitude and logitude coordinates of each neighborhood.\n\nThis dataset exists for free on the web. Link to the dataset is : https://geo.nyu.edu/catalog/nyu_2451_34572", 
            "cell_type": "markdown", 
            "metadata": {}
        }, 
        {
            "source": "***Data 2 :*** Second data which will be used is the DOHMH Farmers Markets and Food Boxes dataset. In this we will be using the data of Farmers Markets.\n\nhttps://data.cityofnewyork.us/dataset/DOHMH-Farmers-Markets-and-Food-Boxes/8vwk-6iz2\n\nWebsite-https://www.grownyc.org/greenmarketco/foodbox <Br>\nGrowNYC's Fresh ***Food Box*** Program is a food access initiative that enables under-served communities to purchase fresh, healthy, and primarily regionally grown produce well below traditional retail prices.\n    \nA ***farmers' market*** is often defined as a public site used by two or more local or regional producers for the direct sale of farm products to consumers. In addition to fresh fruits and vegetables, markets may sell dairy products, fish, meat, baked goods, and other minimally processed foods.", 
            "cell_type": "markdown", 
            "metadata": {}
        }, 
        {
            "source": "***Data 3 :*** For the below analysis we will get data from wikipedia as given below : <Br>\n1. New York Population <Br>\n2. New York City Demographics <Br>\n3. Cuisine of New York city <Br>\n    \nhttps://en.wikipedia.org/wiki/New_York_City <Br>\nhttps://en.wikipedia.org/wiki/Economy_of_New_York_City <Br>\nhttps://en.wikipedia.org/wiki/Portal:New_York_City <Br>\nhttps://en.wikipedia.org/wiki/Cuisine_of_New_York_City <Br>\nhttps://en.wikipedia.org/wiki/List_of_Michelin_starred_restaurants_in_New_York_City", 
            "cell_type": "markdown", 
            "metadata": {}
        }, 
        {
            "source": "***Data 4 :*** Newyork city geographical coordinates data will be utilized as input for the Foursquare API, that will be leveraged to provision venues information for each neighborhood.We will use the Foursquare API to explore neighborhoods in New York City. The below is image of the Foursquare API data.\n\n<a href=\"https://i.imgur.com/MOxxyoY.png \">\n  <img src=\"https://i.imgur.com/MOxxyoY.png\" alt=\"Data Sample\">\n</a>", 
            "cell_type": "markdown", 
            "metadata": {}
        }
    ], 
    "metadata": {
        "kernelspec": {
            "display_name": "Python 3.5", 
            "name": "python3", 
            "language": "python"
        }, 
        "language_info": {
            "mimetype": "text/x-python", 
            "nbconvert_exporter": "python", 
            "version": "3.5.5", 
            "name": "python", 
            "file_extension": ".py", 
            "pygments_lexer": "ipython3", 
            "codemirror_mode": {
                "version": 3, 
                "name": "ipython"
            }
        }
    }, 
    "nbformat": 4
}