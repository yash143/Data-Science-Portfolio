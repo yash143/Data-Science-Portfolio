{
    "nbformat_minor": 1, 
    "cells": [
        {
            "source": "## The Battle of the Neighborhoods - Week 1", 
            "cell_type": "markdown", 
            "metadata": {
                "collapsed": true
            }
        }, 
        {
            "source": "### Introduction & Business Problem :", 
            "cell_type": "markdown", 
            "metadata": {}
        }, 
        {
            "source": "###  Problem Background:", 
            "cell_type": "markdown", 
            "metadata": {}
        }, 
        {
            "source": "The City of New York, is the most populous city in the United States. It is diverse and is the financial capital of USA. It is multicultural. It provides lot of business oppourtunities and business friendly environment. It has attracted many different players into the market. It is a global hub of business and commerce. The city is a major center for banking and finance, retailing, world trade, transportation, tourism, real estate, new media, traditional media, advertising, legal services, accountancy, insurance, theater, fashion, and the arts in the United States.\n\nThis also means that the market is highly competitive. As it is highly developed city so cost of doing business is also one of the highest.\nThus, any new business venture or expansion needs to be analysed carefully. The insights derived from analysis will give good understanding \nof the business environment which help in strategically targeting the market. This will help in reduction of risk. And the Return on Investment will be reasonable.", 
            "cell_type": "markdown", 
            "metadata": {}
        }, 
        {
            "source": "###  Problem Description:", 
            "cell_type": "markdown", 
            "metadata": {}
        }, 
        {
            "source": "A restaurant is a business which prepares and serves food and drink to customers in return for money, either paid before the meal, after the meal, or with an open account. The City of New York is famous for its excelllent cuisine. It's food culture includes an array of international cuisines influenced by the city's immigrant history.<Br> \n1. Central and Eastern European immigrants, especially Jewish immigrants - bagels, cheesecake, hot dogs, knishes, and delicatessens<Br> \n2. Italian immigrants - New York-style pizza and Italian cuisine<Br>\n3. Jewish immigrants and Irish immigrants - pastrami and corned beef<Br>\n4. Chinese and other Asian restaurants, sandwich joints, trattorias, diners, and coffeehouses are ubiquitous throughout the city<Br>\n5. mobile food vendors - Some 4,000 licensed by the city<Br>\n6. Middle Eastern foods such as falafel and kebabs examples of modern New York street food<Br>\n7. It is famous for not just Pizzerias, Cafe's but also for fine dining Michelin starred restaurants.The city is home to \"nearly one thousand of the finest and most diverse haute cuisine restaurants in the world\", according to Michelin. \n\nSo it is evident that to survive in such competitive market it is very important to startegically plan. Various factors need to be studied inorder to decide on the Location such as : <Br>\n1. New York Population <Br>\n2. New York City Demographics <Br>\n2. Are there any Farmers Markets, Wholesale markets etc nearby so that the ingredients can be purchased fresh to maintain quality and cost?<Br>\n3. Are there any venues like Gyms, Entertainmnet zones, Parks etc nearby where floating population is high etc <Br>\n4. Who are the competitors in that location? <Br>\n5. Cuisine served / Menu of the competitors <Br>\n6. Segmentation of the Borough <Br>\n7. Untapped markets <Br>\n8. Saturated markets etc<Br>\nThe list can go on...\n    \nEventhough well funded XYZ Company Ltd. need to choose the correct location to start its first venture.If this is successful they can replicate the same in other locations. First move is very important, thereby choice of location is very important.", 
            "cell_type": "markdown", 
            "metadata": {}
        }, 
        {
            "source": "### Target Audience:", 
            "cell_type": "markdown", 
            "metadata": {}
        }, 
        {
            "source": "To recommend the correct location, XYZ Company Ltd has appointed me to lead of the Data Science team. The objective is to locate and recommend to the management which neighborhood of Newyork city will be best choice to start a restaurant. The Management also expects to understand the rationale of the recommendations made.\n\nThis would interest anyone who wants to start a new restaurant in Newyork city.", 
            "cell_type": "markdown", 
            "metadata": {}
        }, 
        {
            "source": "###  Success Criteria:", 
            "cell_type": "markdown", 
            "metadata": {}
        }, 
        {
            "source": "The success criteria of the project will be a good recommendation of borough/Neighborhood choice to XYZ Company Ltd based on Lack of such restaurants in that location and nearest suppliers of ingredients.", 
            "cell_type": "markdown", 
            "metadata": {}
        }
    ], 
    "metadata": {
        "kernelspec": {
            "display_name": "Python 3.5", 
            "name": "python3", 
            "language": "python"
        }, 
        "language_info": {
            "mimetype": "text/x-python", 
            "nbconvert_exporter": "python", 
            "version": "3.5.5", 
            "name": "python", 
            "file_extension": ".py", 
            "pygments_lexer": "ipython3", 
            "codemirror_mode": {
                "version": 3, 
                "name": "ipython"
            }
        }
    }, 
    "nbformat": 4
}