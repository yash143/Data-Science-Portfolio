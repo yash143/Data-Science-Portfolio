{
 "cells": [
  {
   "cell_type": "markdown",
   "metadata": {},
   "source": [
    "# Election Poll Data Analysis\n",
    "\n",
    "In this project, we'll look at the opinion poll data from the upcoming 2016 General Election. In the process, we'll try to answer the following questions:\n",
    "\n",
    "- Who was being polled and what was their party affiliation?\n",
    "- Did the poll results favour Clinton or Trump?\n",
    "- How did voter sentiment change over time?\n",
    "- Can we see an effect in the polls from the debates?\n",
    "\n",
    "So let's get started with the imports!"
   ]
  },
  {
   "cell_type": "code",
   "execution_count": 97,
   "metadata": {
    "collapsed": false
   },
   "outputs": [],
   "source": [
    "#Data Analysis imports\n",
    "import pandas as pd\n",
    "from pandas import Series,DataFrame\n",
    "import numpy as np\n",
    "\n",
    "#Visualisation imports\n",
    "import matplotlib.pyplot as plt\n",
    "import seaborn as sns\n",
    "sns.set_style('whitegrid')\n",
    "%matplotlib inline\n",
    "\n",
    "from __future__ import division\n",
    "\n",
    "#Imports to grab and parse data from the web\n",
    "import requests\n",
    "\n",
    "from StringIO import StringIO"
   ]
  },
  {
   "cell_type": "markdown",
   "metadata": {},
   "source": [
    "We'll grab the poll data from _HuffPost Pollster_, and we'll use StringIO to prevent errors with pandas."
   ]
  },
  {
   "cell_type": "code",
   "execution_count": 98,
   "metadata": {
    "collapsed": true
   },
   "outputs": [],
   "source": [
    "#url for the poll data\n",
    "url = \"http://elections.huffingtonpost.com/pollster/2016-general-election-trump-vs-clinton.csv\"\n",
    "\n",
    "#Using requests to get the data in text form\n",
    "source = requests.get(url).text\n",
    "\n",
    "#Using String IO to prevent IO errors with pandas\n",
    "poll_data = StringIO(source)"
   ]
  },
  {
   "cell_type": "code",
   "execution_count": 99,
   "metadata": {
    "collapsed": false
   },
   "outputs": [],
   "source": [
    "#Reading the csv object into a pandas dataframe\n",
    "poll_df = pd.read_csv(poll_data)"
   ]
  },
  {
   "cell_type": "code",
   "execution_count": 100,
   "metadata": {
    "collapsed": false
   },
   "outputs": [
    {
     "name": "stdout",
     "output_type": "stream",
     "text": [
      "<class 'pandas.core.frame.DataFrame'>\n",
      "RangeIndex: 1230 entries, 0 to 1229\n",
      "Data columns (total 17 columns):\n",
      "Pollster                  1230 non-null object\n",
      "Start Date                1230 non-null object\n",
      "End Date                  1230 non-null object\n",
      "Entry Date/Time (ET)      1230 non-null object\n",
      "Number of Observations    825 non-null float64\n",
      "Population                1230 non-null object\n",
      "Mode                      1230 non-null object\n",
      "Trump                     1230 non-null float64\n",
      "Clinton                   1230 non-null float64\n",
      "Other                     819 non-null float64\n",
      "Undecided                 1177 non-null float64\n",
      "Pollster URL              1230 non-null object\n",
      "Source URL                1230 non-null object\n",
      "Partisan                  1230 non-null object\n",
      "Affiliation               1230 non-null object\n",
      "Question Text             506 non-null object\n",
      "Question Iteration        1230 non-null int64\n",
      "dtypes: float64(5), int64(1), object(11)\n",
      "memory usage: 163.4+ KB\n"
     ]
    }
   ],
   "source": [
    "poll_df.info()"
   ]
  },
  {
   "cell_type": "code",
   "execution_count": 101,
   "metadata": {
    "collapsed": false
   },
   "outputs": [
    {
     "data": {
      "text/html": [
       "<div>\n",
       "<table border=\"1\" class=\"dataframe\">\n",
       "  <thead>\n",
       "    <tr style=\"text-align: right;\">\n",
       "      <th></th>\n",
       "      <th>Pollster</th>\n",
       "      <th>Start Date</th>\n",
       "      <th>End Date</th>\n",
       "      <th>Entry Date/Time (ET)</th>\n",
       "      <th>Number of Observations</th>\n",
       "      <th>Population</th>\n",
       "      <th>Mode</th>\n",
       "      <th>Trump</th>\n",
       "      <th>Clinton</th>\n",
       "      <th>Other</th>\n",
       "      <th>Undecided</th>\n",
       "      <th>Pollster URL</th>\n",
       "      <th>Source URL</th>\n",
       "      <th>Partisan</th>\n",
       "      <th>Affiliation</th>\n",
       "      <th>Question Text</th>\n",
       "      <th>Question Iteration</th>\n",
       "    </tr>\n",
       "  </thead>\n",
       "  <tbody>\n",
       "    <tr>\n",
       "      <th>0</th>\n",
       "      <td>Ipsos/Reuters</td>\n",
       "      <td>2016-09-27</td>\n",
       "      <td>2016-09-28</td>\n",
       "      <td>2016-09-28T21:21:35Z</td>\n",
       "      <td>1336.0</td>\n",
       "      <td>Likely Voters</td>\n",
       "      <td>Internet</td>\n",
       "      <td>38.0</td>\n",
       "      <td>42.0</td>\n",
       "      <td>8.0</td>\n",
       "      <td>12.0</td>\n",
       "      <td>http://elections.huffingtonpost.com/pollster/p...</td>\n",
       "      <td>http://big.assets.huffingtonpost.com/2016-Reut...</td>\n",
       "      <td>Nonpartisan</td>\n",
       "      <td>None</td>\n",
       "      <td>If the 2016 presidential election were being h...</td>\n",
       "      <td>1</td>\n",
       "    </tr>\n",
       "    <tr>\n",
       "      <th>1</th>\n",
       "      <td>Ipsos/Reuters</td>\n",
       "      <td>2016-09-27</td>\n",
       "      <td>2016-09-28</td>\n",
       "      <td>2016-09-28T21:21:35Z</td>\n",
       "      <td>NaN</td>\n",
       "      <td>Likely Voters - Democrat</td>\n",
       "      <td>Internet</td>\n",
       "      <td>5.0</td>\n",
       "      <td>81.0</td>\n",
       "      <td>6.0</td>\n",
       "      <td>8.0</td>\n",
       "      <td>http://elections.huffingtonpost.com/pollster/p...</td>\n",
       "      <td>http://big.assets.huffingtonpost.com/2016-Reut...</td>\n",
       "      <td>Nonpartisan</td>\n",
       "      <td>None</td>\n",
       "      <td>If the 2016 presidential election were being h...</td>\n",
       "      <td>1</td>\n",
       "    </tr>\n",
       "    <tr>\n",
       "      <th>2</th>\n",
       "      <td>Ipsos/Reuters</td>\n",
       "      <td>2016-09-27</td>\n",
       "      <td>2016-09-28</td>\n",
       "      <td>2016-09-28T21:21:35Z</td>\n",
       "      <td>NaN</td>\n",
       "      <td>Likely Voters - Republican</td>\n",
       "      <td>Internet</td>\n",
       "      <td>78.0</td>\n",
       "      <td>7.0</td>\n",
       "      <td>7.0</td>\n",
       "      <td>8.0</td>\n",
       "      <td>http://elections.huffingtonpost.com/pollster/p...</td>\n",
       "      <td>http://big.assets.huffingtonpost.com/2016-Reut...</td>\n",
       "      <td>Nonpartisan</td>\n",
       "      <td>None</td>\n",
       "      <td>If the 2016 presidential election were being h...</td>\n",
       "      <td>1</td>\n",
       "    </tr>\n",
       "    <tr>\n",
       "      <th>3</th>\n",
       "      <td>Ipsos/Reuters</td>\n",
       "      <td>2016-09-27</td>\n",
       "      <td>2016-09-28</td>\n",
       "      <td>2016-09-28T21:21:35Z</td>\n",
       "      <td>NaN</td>\n",
       "      <td>Likely Voters - independent</td>\n",
       "      <td>Internet</td>\n",
       "      <td>36.0</td>\n",
       "      <td>22.0</td>\n",
       "      <td>19.0</td>\n",
       "      <td>23.0</td>\n",
       "      <td>http://elections.huffingtonpost.com/pollster/p...</td>\n",
       "      <td>http://big.assets.huffingtonpost.com/2016-Reut...</td>\n",
       "      <td>Nonpartisan</td>\n",
       "      <td>None</td>\n",
       "      <td>If the 2016 presidential election were being h...</td>\n",
       "      <td>1</td>\n",
       "    </tr>\n",
       "    <tr>\n",
       "      <th>4</th>\n",
       "      <td>Morning Consult</td>\n",
       "      <td>2016-09-26</td>\n",
       "      <td>2016-09-27</td>\n",
       "      <td>2016-09-28T16:28:22Z</td>\n",
       "      <td>1253.0</td>\n",
       "      <td>Likely Voters</td>\n",
       "      <td>Internet</td>\n",
       "      <td>41.0</td>\n",
       "      <td>45.0</td>\n",
       "      <td>NaN</td>\n",
       "      <td>14.0</td>\n",
       "      <td>http://elections.huffingtonpost.com/pollster/p...</td>\n",
       "      <td>https://morningconsult.com/2016/09/28/clinton-...</td>\n",
       "      <td>Nonpartisan</td>\n",
       "      <td>None</td>\n",
       "      <td>If the 2016 presidential election were held to...</td>\n",
       "      <td>1</td>\n",
       "    </tr>\n",
       "  </tbody>\n",
       "</table>\n",
       "</div>"
      ],
      "text/plain": [
       "          Pollster  Start Date    End Date  Entry Date/Time (ET)  \\\n",
       "0    Ipsos/Reuters  2016-09-27  2016-09-28  2016-09-28T21:21:35Z   \n",
       "1    Ipsos/Reuters  2016-09-27  2016-09-28  2016-09-28T21:21:35Z   \n",
       "2    Ipsos/Reuters  2016-09-27  2016-09-28  2016-09-28T21:21:35Z   \n",
       "3    Ipsos/Reuters  2016-09-27  2016-09-28  2016-09-28T21:21:35Z   \n",
       "4  Morning Consult  2016-09-26  2016-09-27  2016-09-28T16:28:22Z   \n",
       "\n",
       "   Number of Observations                   Population      Mode  Trump  \\\n",
       "0                  1336.0                Likely Voters  Internet   38.0   \n",
       "1                     NaN     Likely Voters - Democrat  Internet    5.0   \n",
       "2                     NaN   Likely Voters - Republican  Internet   78.0   \n",
       "3                     NaN  Likely Voters - independent  Internet   36.0   \n",
       "4                  1253.0                Likely Voters  Internet   41.0   \n",
       "\n",
       "   Clinton  Other  Undecided  \\\n",
       "0     42.0    8.0       12.0   \n",
       "1     81.0    6.0        8.0   \n",
       "2      7.0    7.0        8.0   \n",
       "3     22.0   19.0       23.0   \n",
       "4     45.0    NaN       14.0   \n",
       "\n",
       "                                        Pollster URL  \\\n",
       "0  http://elections.huffingtonpost.com/pollster/p...   \n",
       "1  http://elections.huffingtonpost.com/pollster/p...   \n",
       "2  http://elections.huffingtonpost.com/pollster/p...   \n",
       "3  http://elections.huffingtonpost.com/pollster/p...   \n",
       "4  http://elections.huffingtonpost.com/pollster/p...   \n",
       "\n",
       "                                          Source URL     Partisan Affiliation  \\\n",
       "0  http://big.assets.huffingtonpost.com/2016-Reut...  Nonpartisan        None   \n",
       "1  http://big.assets.huffingtonpost.com/2016-Reut...  Nonpartisan        None   \n",
       "2  http://big.assets.huffingtonpost.com/2016-Reut...  Nonpartisan        None   \n",
       "3  http://big.assets.huffingtonpost.com/2016-Reut...  Nonpartisan        None   \n",
       "4  https://morningconsult.com/2016/09/28/clinton-...  Nonpartisan        None   \n",
       "\n",
       "                                       Question Text  Question Iteration  \n",
       "0  If the 2016 presidential election were being h...                   1  \n",
       "1  If the 2016 presidential election were being h...                   1  \n",
       "2  If the 2016 presidential election were being h...                   1  \n",
       "3  If the 2016 presidential election were being h...                   1  \n",
       "4  If the 2016 presidential election were held to...                   1  "
      ]
     },
     "execution_count": 101,
     "metadata": {},
     "output_type": "execute_result"
    }
   ],
   "source": [
    "poll_df.head()"
   ]
  },
  {
   "cell_type": "markdown",
   "metadata": {},
   "source": [
    "### Who was being polled and what was their party affiliation?"
   ]
  },
  {
   "cell_type": "markdown",
   "metadata": {},
   "source": [
    "Quickly visualising the affiliations of the different pollsters."
   ]
  },
  {
   "cell_type": "code",
   "execution_count": 102,
   "metadata": {
    "collapsed": false
   },
   "outputs": [
    {
     "data": {
      "text/plain": [
       "<seaborn.axisgrid.FacetGrid at 0x119021cd0>"
      ]
     },
     "execution_count": 102,
     "metadata": {},
     "output_type": "execute_result"
    },
    {
     "data": {
      "image/png": "[encoded data removed]",
      "text/plain": [
       "<matplotlib.figure.Figure at 0x119021e10>"
      ]
     },
     "metadata": {},
     "output_type": "display_data"
    }
   ],
   "source": [
    "sns.factorplot('Affiliation',data=poll_df,kind='count')"
   ]
  },
  {
   "cell_type": "markdown",
   "metadata": {},
   "source": [
    "Most of the polls have no affiliation; though there's stronger affiliation for Democrats than for Republicans."
   ]
  },
  {
   "cell_type": "code",
   "execution_count": 103,
   "metadata": {
    "collapsed": false
   },
   "outputs": [
    {
     "data": {
      "text/plain": [
       "<seaborn.axisgrid.FacetGrid at 0x11904ff10>"
      ]
     },
     "execution_count": 103,
     "metadata": {},
     "output_type": "execute_result"
    },
    {
     "data": {
      "image/png": "[encoded data removed]",
      "text/plain": [
       "<matplotlib.figure.Figure at 0x1166db1d0>"
      ]
     },
     "metadata": {},
     "output_type": "display_data"
    }
   ],
   "source": [
    "sns.factorplot('Affiliation',data=poll_df,hue='Population',kind='count')"
   ]
  },
  {
   "cell_type": "markdown",
   "metadata": {},
   "source": [
    "As there's a strong sample of registered voters that are not affiliated, we can hope that the poll data is a good representation of the upcoming elections."
   ]
  },
  {
   "cell_type": "code",
   "execution_count": 108,
   "metadata": {
    "collapsed": false
   },
   "outputs": [
    {
     "data": {
      "text/plain": [
       "<seaborn.axisgrid.FacetGrid at 0x116b07c10>"
      ]
     },
     "execution_count": 108,
     "metadata": {},
     "output_type": "execute_result"
    },
    {
     "data": {
      "image/png": "[encoded data removed]",
      "text/plain": [
       "<matplotlib.figure.Figure at 0x1196f0390>"
      ]
     },
     "metadata": {},
     "output_type": "display_data"
    }
   ],
   "source": [
    "sns.factorplot('Mode',data=poll_df,kind='count')"
   ]
  },
  {
   "cell_type": "markdown",
   "metadata": {},
   "source": [
    "### Did the poll results favour Clinton or Trump?"
   ]
  },
  {
   "cell_type": "code",
   "execution_count": 104,
   "metadata": {
    "collapsed": false
   },
   "outputs": [
    {
     "data": {
      "text/html": [
       "<div>\n",
       "<table border=\"1\" class=\"dataframe\">\n",
       "  <thead>\n",
       "    <tr style=\"text-align: right;\">\n",
       "      <th></th>\n",
       "      <th>0</th>\n",
       "    </tr>\n",
       "  </thead>\n",
       "  <tbody>\n",
       "    <tr>\n",
       "      <th>Trump</th>\n",
       "      <td>40.634959</td>\n",
       "    </tr>\n",
       "    <tr>\n",
       "      <th>Clinton</th>\n",
       "      <td>42.686179</td>\n",
       "    </tr>\n",
       "    <tr>\n",
       "      <th>Other</th>\n",
       "      <td>6.108669</td>\n",
       "    </tr>\n",
       "    <tr>\n",
       "      <th>Undecided</th>\n",
       "      <td>10.050127</td>\n",
       "    </tr>\n",
       "  </tbody>\n",
       "</table>\n",
       "</div>"
      ],
      "text/plain": [
       "                   0\n",
       "Trump      40.634959\n",
       "Clinton    42.686179\n",
       "Other       6.108669\n",
       "Undecided  10.050127"
      ]
     },
     "execution_count": 104,
     "metadata": {},
     "output_type": "execute_result"
    }
   ],
   "source": [
    "avg = pd.DataFrame(poll_df.mean())\n",
    "\n",
    "avg.drop(['Number of Observations','Question Iteration'],axis=0,inplace=True)\n",
    "\n",
    "avg"
   ]
  },
  {
   "cell_type": "code",
   "execution_count": 109,
   "metadata": {
    "collapsed": false
   },
   "outputs": [
    {
     "data": {
      "text/html": [
       "<div>\n",
       "<table border=\"1\" class=\"dataframe\">\n",
       "  <thead>\n",
       "    <tr style=\"text-align: right;\">\n",
       "      <th></th>\n",
       "      <th>0</th>\n",
       "    </tr>\n",
       "  </thead>\n",
       "  <tbody>\n",
       "    <tr>\n",
       "      <th>Trump</th>\n",
       "      <td>23.530551</td>\n",
       "    </tr>\n",
       "    <tr>\n",
       "      <th>Clinton</th>\n",
       "      <td>25.291930</td>\n",
       "    </tr>\n",
       "    <tr>\n",
       "      <th>Other</th>\n",
       "      <td>5.205711</td>\n",
       "    </tr>\n",
       "    <tr>\n",
       "      <th>Undecided</th>\n",
       "      <td>6.391430</td>\n",
       "    </tr>\n",
       "  </tbody>\n",
       "</table>\n",
       "</div>"
      ],
      "text/plain": [
       "                   0\n",
       "Trump      23.530551\n",
       "Clinton    25.291930\n",
       "Other       5.205711\n",
       "Undecided   6.391430"
      ]
     },
     "execution_count": 109,
     "metadata": {},
     "output_type": "execute_result"
    }
   ],
   "source": [
    "std = pd.DataFrame(poll_df.std())\n",
    "\n",
    "std.drop(['Number of Observations','Question Iteration'],axis=0,inplace=True)\n",
    "\n",
    "std"
   ]
  },
  {
   "cell_type": "code",
   "execution_count": 110,
   "metadata": {
    "collapsed": false
   },
   "outputs": [
    {
     "data": {
      "text/plain": [
       "<matplotlib.axes._subplots.AxesSubplot at 0x119b770d0>"
      ]
     },
     "execution_count": 110,
     "metadata": {},
     "output_type": "execute_result"
    },
    {
     "data": {
      "image/png": "[encoded data removed]",
      "text/plain": [
       "<matplotlib.figure.Figure at 0x11937ef10>"
      ]
     },
     "metadata": {},
     "output_type": "display_data"
    }
   ],
   "source": [
    "avg.plot(yerr=std,kind='bar',legend=False)"
   ]
  },
  {
   "cell_type": "markdown",
   "metadata": {},
   "source": [
    "The race seems to be really close, with results in favour of Clinton with a higher standard deviation than for Trump."
   ]
  },
  {
   "cell_type": "code",
   "execution_count": 111,
   "metadata": {
    "collapsed": false
   },
   "outputs": [
    {
     "data": {
      "text/html": [
       "<div>\n",
       "<table border=\"1\" class=\"dataframe\">\n",
       "  <thead>\n",
       "    <tr style=\"text-align: right;\">\n",
       "      <th></th>\n",
       "      <th>Average</th>\n",
       "      <th>Stdev</th>\n",
       "    </tr>\n",
       "  </thead>\n",
       "  <tbody>\n",
       "    <tr>\n",
       "      <th>Trump</th>\n",
       "      <td>40.634959</td>\n",
       "      <td>23.530551</td>\n",
       "    </tr>\n",
       "    <tr>\n",
       "      <th>Clinton</th>\n",
       "      <td>42.686179</td>\n",
       "      <td>25.291930</td>\n",
       "    </tr>\n",
       "    <tr>\n",
       "      <th>Other</th>\n",
       "      <td>6.108669</td>\n",
       "      <td>5.205711</td>\n",
       "    </tr>\n",
       "    <tr>\n",
       "      <th>Undecided</th>\n",
       "      <td>10.050127</td>\n",
       "      <td>6.391430</td>\n",
       "    </tr>\n",
       "  </tbody>\n",
       "</table>\n",
       "</div>"
      ],
      "text/plain": [
       "             Average      Stdev\n",
       "Trump      40.634959  23.530551\n",
       "Clinton    42.686179  25.291930\n",
       "Other       6.108669   5.205711\n",
       "Undecided  10.050127   6.391430"
      ]
     },
     "execution_count": 111,
     "metadata": {},
     "output_type": "execute_result"
    }
   ],
   "source": [
    "poll_avg = pd.concat([avg,std],axis=1)\n",
    "\n",
    "poll_avg.columns = ['Average','Stdev']\n",
    "\n",
    "poll_avg"
   ]
  },
  {
   "cell_type": "code",
   "execution_count": 112,
   "metadata": {
    "collapsed": false
   },
   "outputs": [
    {
     "data": {
      "text/html": [
       "<div>\n",
       "<table border=\"1\" class=\"dataframe\">\n",
       "  <thead>\n",
       "    <tr style=\"text-align: right;\">\n",
       "      <th></th>\n",
       "      <th>Pollster</th>\n",
       "      <th>Start Date</th>\n",
       "      <th>End Date</th>\n",
       "      <th>Entry Date/Time (ET)</th>\n",
       "      <th>Number of Observations</th>\n",
       "      <th>Population</th>\n",
       "      <th>Mode</th>\n",
       "      <th>Trump</th>\n",
       "      <th>Clinton</th>\n",
       "      <th>Other</th>\n",
       "      <th>Undecided</th>\n",
       "      <th>Pollster URL</th>\n",
       "      <th>Source URL</th>\n",
       "      <th>Partisan</th>\n",
       "      <th>Affiliation</th>\n",
       "      <th>Question Text</th>\n",
       "      <th>Question Iteration</th>\n",
       "    </tr>\n",
       "  </thead>\n",
       "  <tbody>\n",
       "    <tr>\n",
       "      <th>0</th>\n",
       "      <td>Ipsos/Reuters</td>\n",
       "      <td>2016-09-27</td>\n",
       "      <td>2016-09-28</td>\n",
       "      <td>2016-09-28T21:21:35Z</td>\n",
       "      <td>1336.0</td>\n",
       "      <td>Likely Voters</td>\n",
       "      <td>Internet</td>\n",
       "      <td>38.0</td>\n",
       "      <td>42.0</td>\n",
       "      <td>8.0</td>\n",
       "      <td>12.0</td>\n",
       "      <td>http://elections.huffingtonpost.com/pollster/p...</td>\n",
       "      <td>http://big.assets.huffingtonpost.com/2016-Reut...</td>\n",
       "      <td>Nonpartisan</td>\n",
       "      <td>None</td>\n",
       "      <td>If the 2016 presidential election were being h...</td>\n",
       "      <td>1</td>\n",
       "    </tr>\n",
       "    <tr>\n",
       "      <th>1</th>\n",
       "      <td>Ipsos/Reuters</td>\n",
       "      <td>2016-09-27</td>\n",
       "      <td>2016-09-28</td>\n",
       "      <td>2016-09-28T21:21:35Z</td>\n",
       "      <td>NaN</td>\n",
       "      <td>Likely Voters - Democrat</td>\n",
       "      <td>Internet</td>\n",
       "      <td>5.0</td>\n",
       "      <td>81.0</td>\n",
       "      <td>6.0</td>\n",
       "      <td>8.0</td>\n",
       "      <td>http://elections.huffingtonpost.com/pollster/p...</td>\n",
       "      <td>http://big.assets.huffingtonpost.com/2016-Reut...</td>\n",
       "      <td>Nonpartisan</td>\n",
       "      <td>None</td>\n",
       "      <td>If the 2016 presidential election were being h...</td>\n",
       "      <td>1</td>\n",
       "    </tr>\n",
       "    <tr>\n",
       "      <th>2</th>\n",
       "      <td>Ipsos/Reuters</td>\n",
       "      <td>2016-09-27</td>\n",
       "      <td>2016-09-28</td>\n",
       "      <td>2016-09-28T21:21:35Z</td>\n",
       "      <td>NaN</td>\n",
       "      <td>Likely Voters - Republican</td>\n",
       "      <td>Internet</td>\n",
       "      <td>78.0</td>\n",
       "      <td>7.0</td>\n",
       "      <td>7.0</td>\n",
       "      <td>8.0</td>\n",
       "      <td>http://elections.huffingtonpost.com/pollster/p...</td>\n",
       "      <td>http://big.assets.huffingtonpost.com/2016-Reut...</td>\n",
       "      <td>Nonpartisan</td>\n",
       "      <td>None</td>\n",
       "      <td>If the 2016 presidential election were being h...</td>\n",
       "      <td>1</td>\n",
       "    </tr>\n",
       "    <tr>\n",
       "      <th>3</th>\n",
       "      <td>Ipsos/Reuters</td>\n",
       "      <td>2016-09-27</td>\n",
       "      <td>2016-09-28</td>\n",
       "      <td>2016-09-28T21:21:35Z</td>\n",
       "      <td>NaN</td>\n",
       "      <td>Likely Voters - independent</td>\n",
       "      <td>Internet</td>\n",
       "      <td>36.0</td>\n",
       "      <td>22.0</td>\n",
       "      <td>19.0</td>\n",
       "      <td>23.0</td>\n",
       "      <td>http://elections.huffingtonpost.com/pollster/p...</td>\n",
       "      <td>http://big.assets.huffingtonpost.com/2016-Reut...</td>\n",
       "      <td>Nonpartisan</td>\n",
       "      <td>None</td>\n",
       "      <td>If the 2016 presidential election were being h...</td>\n",
       "      <td>1</td>\n",
       "    </tr>\n",
       "    <tr>\n",
       "      <th>4</th>\n",
       "      <td>Morning Consult</td>\n",
       "      <td>2016-09-26</td>\n",
       "      <td>2016-09-27</td>\n",
       "      <td>2016-09-28T16:28:22Z</td>\n",
       "      <td>1253.0</td>\n",
       "      <td>Likely Voters</td>\n",
       "      <td>Internet</td>\n",
       "      <td>41.0</td>\n",
       "      <td>45.0</td>\n",
       "      <td>NaN</td>\n",
       "      <td>14.0</td>\n",
       "      <td>http://elections.huffingtonpost.com/pollster/p...</td>\n",
       "      <td>https://morningconsult.com/2016/09/28/clinton-...</td>\n",
       "      <td>Nonpartisan</td>\n",
       "      <td>None</td>\n",
       "      <td>If the 2016 presidential election were held to...</td>\n",
       "      <td>1</td>\n",
       "    </tr>\n",
       "  </tbody>\n",
       "</table>\n",
       "</div>"
      ],
      "text/plain": [
       "          Pollster  Start Date    End Date  Entry Date/Time (ET)  \\\n",
       "0    Ipsos/Reuters  2016-09-27  2016-09-28  2016-09-28T21:21:35Z   \n",
       "1    Ipsos/Reuters  2016-09-27  2016-09-28  2016-09-28T21:21:35Z   \n",
       "2    Ipsos/Reuters  2016-09-27  2016-09-28  2016-09-28T21:21:35Z   \n",
       "3    Ipsos/Reuters  2016-09-27  2016-09-28  2016-09-28T21:21:35Z   \n",
       "4  Morning Consult  2016-09-26  2016-09-27  2016-09-28T16:28:22Z   \n",
       "\n",
       "   Number of Observations                   Population      Mode  Trump  \\\n",
       "0                  1336.0                Likely Voters  Internet   38.0   \n",
       "1                     NaN     Likely Voters - Democrat  Internet    5.0   \n",
       "2                     NaN   Likely Voters - Republican  Internet   78.0   \n",
       "3                     NaN  Likely Voters - independent  Internet   36.0   \n",
       "4                  1253.0                Likely Voters  Internet   41.0   \n",
       "\n",
       "   Clinton  Other  Undecided  \\\n",
       "0     42.0    8.0       12.0   \n",
       "1     81.0    6.0        8.0   \n",
       "2      7.0    7.0        8.0   \n",
       "3     22.0   19.0       23.0   \n",
       "4     45.0    NaN       14.0   \n",
       "\n",
       "                                        Pollster URL  \\\n",
       "0  http://elections.huffingtonpost.com/pollster/p...   \n",
       "1  http://elections.huffingtonpost.com/pollster/p...   \n",
       "2  http://elections.huffingtonpost.com/pollster/p...   \n",
       "3  http://elections.huffingtonpost.com/pollster/p...   \n",
       "4  http://elections.huffingtonpost.com/pollster/p...   \n",
       "\n",
       "                                          Source URL     Partisan Affiliation  \\\n",
       "0  http://big.assets.huffingtonpost.com/2016-Reut...  Nonpartisan        None   \n",
       "1  http://big.assets.huffingtonpost.com/2016-Reut...  Nonpartisan        None   \n",
       "2  http://big.assets.huffingtonpost.com/2016-Reut...  Nonpartisan        None   \n",
       "3  http://big.assets.huffingtonpost.com/2016-Reut...  Nonpartisan        None   \n",
       "4  https://morningconsult.com/2016/09/28/clinton-...  Nonpartisan        None   \n",
       "\n",
       "                                       Question Text  Question Iteration  \n",
       "0  If the 2016 presidential election were being h...                   1  \n",
       "1  If the 2016 presidential election were being h...                   1  \n",
       "2  If the 2016 presidential election were being h...                   1  \n",
       "3  If the 2016 presidential election were being h...                   1  \n",
       "4  If the 2016 presidential election were held to...                   1  "
      ]
     },
     "execution_count": 112,
     "metadata": {},
     "output_type": "execute_result"
    }
   ],
   "source": [
    "poll_df.head()"
   ]
  },
  {
   "cell_type": "markdown",
   "metadata": {},
   "source": [
    "### How did voter sentiment change over time?"
   ]
  },
  {
   "cell_type": "code",
   "execution_count": 113,
   "metadata": {
    "collapsed": false
   },
   "outputs": [
    {
     "data": {
      "text/html": [
       "<div>\n",
       "<table border=\"1\" class=\"dataframe\">\n",
       "  <thead>\n",
       "    <tr style=\"text-align: right;\">\n",
       "      <th></th>\n",
       "      <th>Pollster</th>\n",
       "      <th>Start Date</th>\n",
       "      <th>End Date</th>\n",
       "      <th>Entry Date/Time (ET)</th>\n",
       "      <th>Number of Observations</th>\n",
       "      <th>Population</th>\n",
       "      <th>Mode</th>\n",
       "      <th>Trump</th>\n",
       "      <th>Clinton</th>\n",
       "      <th>Other</th>\n",
       "      <th>Undecided</th>\n",
       "      <th>Pollster URL</th>\n",
       "      <th>Source URL</th>\n",
       "      <th>Partisan</th>\n",
       "      <th>Affiliation</th>\n",
       "      <th>Question Text</th>\n",
       "      <th>Question Iteration</th>\n",
       "      <th>Difference</th>\n",
       "    </tr>\n",
       "  </thead>\n",
       "  <tbody>\n",
       "    <tr>\n",
       "      <th>0</th>\n",
       "      <td>Ipsos/Reuters</td>\n",
       "      <td>2016-09-27</td>\n",
       "      <td>2016-09-28</td>\n",
       "      <td>2016-09-28T21:21:35Z</td>\n",
       "      <td>1336.0</td>\n",
       "      <td>Likely Voters</td>\n",
       "      <td>Internet</td>\n",
       "      <td>38.0</td>\n",
       "      <td>42.0</td>\n",
       "      <td>8.0</td>\n",
       "      <td>12.0</td>\n",
       "      <td>http://elections.huffingtonpost.com/pollster/p...</td>\n",
       "      <td>http://big.assets.huffingtonpost.com/2016-Reut...</td>\n",
       "      <td>Nonpartisan</td>\n",
       "      <td>None</td>\n",
       "      <td>If the 2016 presidential election were being h...</td>\n",
       "      <td>1</td>\n",
       "      <td>0.04</td>\n",
       "    </tr>\n",
       "    <tr>\n",
       "      <th>1</th>\n",
       "      <td>Ipsos/Reuters</td>\n",
       "      <td>2016-09-27</td>\n",
       "      <td>2016-09-28</td>\n",
       "      <td>2016-09-28T21:21:35Z</td>\n",
       "      <td>NaN</td>\n",
       "      <td>Likely Voters - Democrat</td>\n",
       "      <td>Internet</td>\n",
       "      <td>5.0</td>\n",
       "      <td>81.0</td>\n",
       "      <td>6.0</td>\n",
       "      <td>8.0</td>\n",
       "      <td>http://elections.huffingtonpost.com/pollster/p...</td>\n",
       "      <td>http://big.assets.huffingtonpost.com/2016-Reut...</td>\n",
       "      <td>Nonpartisan</td>\n",
       "      <td>None</td>\n",
       "      <td>If the 2016 presidential election were being h...</td>\n",
       "      <td>1</td>\n",
       "      <td>0.76</td>\n",
       "    </tr>\n",
       "    <tr>\n",
       "      <th>2</th>\n",
       "      <td>Ipsos/Reuters</td>\n",
       "      <td>2016-09-27</td>\n",
       "      <td>2016-09-28</td>\n",
       "      <td>2016-09-28T21:21:35Z</td>\n",
       "      <td>NaN</td>\n",
       "      <td>Likely Voters - Republican</td>\n",
       "      <td>Internet</td>\n",
       "      <td>78.0</td>\n",
       "      <td>7.0</td>\n",
       "      <td>7.0</td>\n",
       "      <td>8.0</td>\n",
       "      <td>http://elections.huffingtonpost.com/pollster/p...</td>\n",
       "      <td>http://big.assets.huffingtonpost.com/2016-Reut...</td>\n",
       "      <td>Nonpartisan</td>\n",
       "      <td>None</td>\n",
       "      <td>If the 2016 presidential election were being h...</td>\n",
       "      <td>1</td>\n",
       "      <td>-0.71</td>\n",
       "    </tr>\n",
       "    <tr>\n",
       "      <th>3</th>\n",
       "      <td>Ipsos/Reuters</td>\n",
       "      <td>2016-09-27</td>\n",
       "      <td>2016-09-28</td>\n",
       "      <td>2016-09-28T21:21:35Z</td>\n",
       "      <td>NaN</td>\n",
       "      <td>Likely Voters - independent</td>\n",
       "      <td>Internet</td>\n",
       "      <td>36.0</td>\n",
       "      <td>22.0</td>\n",
       "      <td>19.0</td>\n",
       "      <td>23.0</td>\n",
       "      <td>http://elections.huffingtonpost.com/pollster/p...</td>\n",
       "      <td>http://big.assets.huffingtonpost.com/2016-Reut...</td>\n",
       "      <td>Nonpartisan</td>\n",
       "      <td>None</td>\n",
       "      <td>If the 2016 presidential election were being h...</td>\n",
       "      <td>1</td>\n",
       "      <td>-0.14</td>\n",
       "    </tr>\n",
       "    <tr>\n",
       "      <th>4</th>\n",
       "      <td>Morning Consult</td>\n",
       "      <td>2016-09-26</td>\n",
       "      <td>2016-09-27</td>\n",
       "      <td>2016-09-28T16:28:22Z</td>\n",
       "      <td>1253.0</td>\n",
       "      <td>Likely Voters</td>\n",
       "      <td>Internet</td>\n",
       "      <td>41.0</td>\n",
       "      <td>45.0</td>\n",
       "      <td>NaN</td>\n",
       "      <td>14.0</td>\n",
       "      <td>http://elections.huffingtonpost.com/pollster/p...</td>\n",
       "      <td>https://morningconsult.com/2016/09/28/clinton-...</td>\n",
       "      <td>Nonpartisan</td>\n",
       "      <td>None</td>\n",
       "      <td>If the 2016 presidential election were held to...</td>\n",
       "      <td>1</td>\n",
       "      <td>0.04</td>\n",
       "    </tr>\n",
       "  </tbody>\n",
       "</table>\n",
       "</div>"
      ],
      "text/plain": [
       "          Pollster  Start Date    End Date  Entry Date/Time (ET)  \\\n",
       "0    Ipsos/Reuters  2016-09-27  2016-09-28  2016-09-28T21:21:35Z   \n",
       "1    Ipsos/Reuters  2016-09-27  2016-09-28  2016-09-28T21:21:35Z   \n",
       "2    Ipsos/Reuters  2016-09-27  2016-09-28  2016-09-28T21:21:35Z   \n",
       "3    Ipsos/Reuters  2016-09-27  2016-09-28  2016-09-28T21:21:35Z   \n",
       "4  Morning Consult  2016-09-26  2016-09-27  2016-09-28T16:28:22Z   \n",
       "\n",
       "   Number of Observations                   Population      Mode  Trump  \\\n",
       "0                  1336.0                Likely Voters  Internet   38.0   \n",
       "1                     NaN     Likely Voters - Democrat  Internet    5.0   \n",
       "2                     NaN   Likely Voters - Republican  Internet   78.0   \n",
       "3                     NaN  Likely Voters - independent  Internet   36.0   \n",
       "4                  1253.0                Likely Voters  Internet   41.0   \n",
       "\n",
       "   Clinton  Other  Undecided  \\\n",
       "0     42.0    8.0       12.0   \n",
       "1     81.0    6.0        8.0   \n",
       "2      7.0    7.0        8.0   \n",
       "3     22.0   19.0       23.0   \n",
       "4     45.0    NaN       14.0   \n",
       "\n",
       "                                        Pollster URL  \\\n",
       "0  http://elections.huffingtonpost.com/pollster/p...   \n",
       "1  http://elections.huffingtonpost.com/pollster/p...   \n",
       "2  http://elections.huffingtonpost.com/pollster/p...   \n",
       "3  http://elections.huffingtonpost.com/pollster/p...   \n",
       "4  http://elections.huffingtonpost.com/pollster/p...   \n",
       "\n",
       "                                          Source URL     Partisan Affiliation  \\\n",
       "0  http://big.assets.huffingtonpost.com/2016-Reut...  Nonpartisan        None   \n",
       "1  http://big.assets.huffingtonpost.com/2016-Reut...  Nonpartisan        None   \n",
       "2  http://big.assets.huffingtonpost.com/2016-Reut...  Nonpartisan        None   \n",
       "3  http://big.assets.huffingtonpost.com/2016-Reut...  Nonpartisan        None   \n",
       "4  https://morningconsult.com/2016/09/28/clinton-...  Nonpartisan        None   \n",
       "\n",
       "                                       Question Text  Question Iteration  \\\n",
       "0  If the 2016 presidential election were being h...                   1   \n",
       "1  If the 2016 presidential election were being h...                   1   \n",
       "2  If the 2016 presidential election were being h...                   1   \n",
       "3  If the 2016 presidential election were being h...                   1   \n",
       "4  If the 2016 presidential election were held to...                   1   \n",
       "\n",
       "   Difference  \n",
       "0        0.04  \n",
       "1        0.76  \n",
       "2       -0.71  \n",
       "3       -0.14  \n",
       "4        0.04  "
      ]
     },
     "execution_count": 113,
     "metadata": {},
     "output_type": "execute_result"
    }
   ],
   "source": [
    "from datetime import datetime\n",
    "\n",
    "poll_df['Difference'] = (poll_df.Clinton - poll_df.Trump)/100\n",
    "\n",
    "poll_df.head()"
   ]
  },
  {
   "cell_type": "markdown",
   "metadata": {},
   "source": [
    "The difference is Clinton - Trump. So a positive difference indicates a Clinton lead, and a negative difference indicates a Trump lead."
   ]
  },
  {
   "cell_type": "code",
   "execution_count": 114,
   "metadata": {
    "collapsed": false
   },
   "outputs": [
    {
     "data": {
      "text/html": [
       "<div>\n",
       "<table border=\"1\" class=\"dataframe\">\n",
       "  <thead>\n",
       "    <tr style=\"text-align: right;\">\n",
       "      <th></th>\n",
       "      <th>Start Date</th>\n",
       "      <th>Number of Observations</th>\n",
       "      <th>Trump</th>\n",
       "      <th>Clinton</th>\n",
       "      <th>Other</th>\n",
       "      <th>Undecided</th>\n",
       "      <th>Question Iteration</th>\n",
       "      <th>Difference</th>\n",
       "    </tr>\n",
       "  </thead>\n",
       "  <tbody>\n",
       "    <tr>\n",
       "      <th>225</th>\n",
       "      <td>2016-09-20</td>\n",
       "      <td>1000.000000</td>\n",
       "      <td>44.750000</td>\n",
       "      <td>37.750000</td>\n",
       "      <td>5.000000</td>\n",
       "      <td>4.750000</td>\n",
       "      <td>1.000000</td>\n",
       "      <td>-0.070000</td>\n",
       "    </tr>\n",
       "    <tr>\n",
       "      <th>226</th>\n",
       "      <td>2016-09-21</td>\n",
       "      <td>1081.000000</td>\n",
       "      <td>45.666667</td>\n",
       "      <td>45.000000</td>\n",
       "      <td>3.666667</td>\n",
       "      <td>4.000000</td>\n",
       "      <td>1.333333</td>\n",
       "      <td>-0.006667</td>\n",
       "    </tr>\n",
       "    <tr>\n",
       "      <th>227</th>\n",
       "      <td>2016-09-22</td>\n",
       "      <td>761.090909</td>\n",
       "      <td>42.382353</td>\n",
       "      <td>42.205882</td>\n",
       "      <td>4.600000</td>\n",
       "      <td>7.382353</td>\n",
       "      <td>1.500000</td>\n",
       "      <td>-0.001765</td>\n",
       "    </tr>\n",
       "    <tr>\n",
       "      <th>228</th>\n",
       "      <td>2016-09-26</td>\n",
       "      <td>626.250000</td>\n",
       "      <td>41.125000</td>\n",
       "      <td>40.750000</td>\n",
       "      <td>4.250000</td>\n",
       "      <td>11.625000</td>\n",
       "      <td>1.500000</td>\n",
       "      <td>-0.003750</td>\n",
       "    </tr>\n",
       "    <tr>\n",
       "      <th>229</th>\n",
       "      <td>2016-09-27</td>\n",
       "      <td>1336.000000</td>\n",
       "      <td>39.250000</td>\n",
       "      <td>38.000000</td>\n",
       "      <td>10.000000</td>\n",
       "      <td>12.750000</td>\n",
       "      <td>1.000000</td>\n",
       "      <td>-0.012500</td>\n",
       "    </tr>\n",
       "  </tbody>\n",
       "</table>\n",
       "</div>"
      ],
      "text/plain": [
       "     Start Date  Number of Observations      Trump    Clinton      Other  \\\n",
       "225  2016-09-20             1000.000000  44.750000  37.750000   5.000000   \n",
       "226  2016-09-21             1081.000000  45.666667  45.000000   3.666667   \n",
       "227  2016-09-22              761.090909  42.382353  42.205882   4.600000   \n",
       "228  2016-09-26              626.250000  41.125000  40.750000   4.250000   \n",
       "229  2016-09-27             1336.000000  39.250000  38.000000  10.000000   \n",
       "\n",
       "     Undecided  Question Iteration  Difference  \n",
       "225   4.750000            1.000000   -0.070000  \n",
       "226   4.000000            1.333333   -0.006667  \n",
       "227   7.382353            1.500000   -0.001765  \n",
       "228  11.625000            1.500000   -0.003750  \n",
       "229  12.750000            1.000000   -0.012500  "
      ]
     },
     "execution_count": 114,
     "metadata": {},
     "output_type": "execute_result"
    }
   ],
   "source": [
    "#Grouping polls by the start data\n",
    "poll_df = poll_df.groupby(['Start Date'],as_index=False).mean()\n",
    "\n",
    "poll_df.tail()"
   ]
  },
  {
   "cell_type": "code",
   "execution_count": 115,
   "metadata": {
    "collapsed": false
   },
   "outputs": [
    {
     "data": {
      "text/plain": [
       "<matplotlib.axes._subplots.AxesSubplot at 0x119ba2e50>"
      ]
     },
     "execution_count": 115,
     "metadata": {},
     "output_type": "execute_result"
    },
    {
     "data": {
      "image/png": "[encoded data removed]",
      "text/plain": [
       "<matplotlib.figure.Figure at 0x119baeb90>"
      ]
     },
     "metadata": {},
     "output_type": "display_data"
    }
   ],
   "source": [
    "poll_df.plot('Start Date','Difference',figsize=(15,4),marker='o',linestyle='-')"
   ]
  },
  {
   "cell_type": "markdown",
   "metadata": {},
   "source": [
    "The visualisation indicates that Trump has a slight lead in the polls, on average. __Keep in mind that this is without accounting for the weights of different polls, demographics, and affiliations of the population polled.__ \n",
    "\n",
    "The latest start date in our grouped dataframe is 27-September-2016."
   ]
  },
  {
   "cell_type": "markdown",
   "metadata": {},
   "source": [
    "### Can we see an effect in the polls from the debates?\n",
    "\n",
    "Another interesting thing that we can look into, is what happened on the days leading up to the first debate, and afterwards. We know that the debate was on 26-September-2016, so we'll plot the trends for the month of September.\n",
    "\n",
    "To get a list of indices for September, we'll loop through the dataframe, and append any row with a September start date to the list."
   ]
  },
  {
   "cell_type": "code",
   "execution_count": 116,
   "metadata": {
    "collapsed": false
   },
   "outputs": [
    {
     "name": "stdout",
     "output_type": "stream",
     "text": [
      "First September Index: 209\n",
      "Last (Available) September Index: 229\n"
     ]
    }
   ],
   "source": [
    "row_in = 0\n",
    "xlimit = []\n",
    "\n",
    "for date in poll_df['Start Date']:\n",
    "    if date[0:7] == '2016-09':\n",
    "        xlimit.append(row_in)\n",
    "        row_in += 1\n",
    "    else:\n",
    "        row_in += 1\n",
    "        \n",
    "print \"First September Index: \" + str(min(xlimit))\n",
    "print \"Last (Available) September Index: \"+ str(max(xlimit))"
   ]
  },
  {
   "cell_type": "code",
   "execution_count": 117,
   "metadata": {
    "collapsed": false
   },
   "outputs": [
    {
     "data": {
      "text/plain": [
       "<matplotlib.lines.Line2D at 0x119431850>"
      ]
     },
     "execution_count": 117,
     "metadata": {},
     "output_type": "execute_result"
    },
    {
     "data": {
      "image/png": "[encoded data removed]",
      "text/plain": [
       "<matplotlib.figure.Figure at 0x119f50890>"
      ]
     },
     "metadata": {},
     "output_type": "display_data"
    }
   ],
   "source": [
    "poll_df.plot('Start Date','Difference',figsize=(15,4),marker='o',linestyle='-',xlim=(209,229))\n",
    "\n",
    "#Vertical line for debate date\n",
    "plt.axvline(x=228)"
   ]
  },
  {
   "cell_type": "markdown",
   "metadata": {},
   "source": [
    "And what it looks like, is that the sentiment shifted slightly in favour of Trump, after the debate. Again, it's important to keep in mind that we're dealing with averages."
   ]
  },
  {
   "cell_type": "code",
   "execution_count": null,
   "metadata": {
    "collapsed": true
   },
   "outputs": [],
   "source": []
  }
 ],
 "metadata": {
  "anaconda-cloud": {},
  "kernelspec": {
   "display_name": "Python [conda env:py27]",
   "language": "python",
   "name": "conda-env-py27-py"
  },
  "language_info": {
   "codemirror_mode": {
    "name": "ipython",
    "version": 2
   },
   "file_extension": ".py",
   "mimetype": "text/x-python",
   "name": "python",
   "nbconvert_exporter": "python",
   "pygments_lexer": "ipython2",
   "version": "2.7.12"
  }
 },
 "nbformat": 4,
 "nbformat_minor": 0
}
